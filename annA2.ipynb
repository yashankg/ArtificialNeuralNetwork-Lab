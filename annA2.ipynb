{
 "cells": [
  {
   "cell_type": "code",
   "execution_count": 2,
   "id": "fa769fef-8b9e-45f4-9947-e3b4ff7c8190",
   "metadata": {},
   "outputs": [],
   "source": [
    "import numpy as np"
   ]
  },
  {
   "cell_type": "code",
   "execution_count": 3,
   "id": "53989512-a590-4500-883d-b1a89519ec11",
   "metadata": {},
   "outputs": [],
   "source": [
    "def mpn(inputs, weights, threshold):\n",
    "    weighted_sum = np.dot(inputs, weights)\n",
    "    if weighted_sum <= threshold:\n",
    "        return 0\n",
    "    else:\n",
    "        return 1"
   ]
  },
  {
   "cell_type": "code",
   "execution_count": 4,
   "id": "48caea0a-db99-4726-a4d5-e534024eddeb",
   "metadata": {},
   "outputs": [],
   "source": [
    "def ANDNOT(x1, x2):\n",
    "    weights=[-1, 1]\n",
    "    threshold=0\n",
    "    return mpn([x1, x2], weights, threshold)"
   ]
  },
  {
   "cell_type": "code",
   "execution_count": 5,
   "id": "500e7d4c-0ea8-4b83-9e47-d6fcf66f82fb",
   "metadata": {},
   "outputs": [
    {
     "name": "stdout",
     "output_type": "stream",
     "text": [
      "ANDNOT(0, 0) : 0\n",
      "ANDNOT(0, 1) : 1\n",
      "ANDNOT(1, 0) : 0\n",
      "ANDNOT(1, 1) : 0\n"
     ]
    }
   ],
   "source": [
    "print(f\"ANDNOT(0, 0) : {ANDNOT(0, 0)}\")\n",
    "print(f\"ANDNOT(0, 1) : {ANDNOT(0, 1)}\")\n",
    "print(f\"ANDNOT(1, 0) : {ANDNOT(1, 0)}\")\n",
    "print(f\"ANDNOT(1, 1) : {ANDNOT(1, 1)}\")"
   ]
  },
  {
   "cell_type": "code",
   "execution_count": 6,
   "id": "7cf75298-36b2-487a-90c9-6be54a1e076d",
   "metadata": {},
   "outputs": [
    {
     "name": "stdout",
     "output_type": "stream",
     "text": [
      "ANDNOT(0, 0) = 1\n",
      "ANDNOT(0, 1) = 0\n",
      "ANDNOT(1, 0) = 1\n",
      "ANDNOT(1, 1) = 0\n"
     ]
    }
   ],
   "source": [
    "import numpy as np\n",
    "\n",
    "def ANDNOT(x1, x2):\n",
    "  \"\"\"\n",
    "  ANDNOT function using a McCulloch-Pitts neural network.\n",
    "\n",
    "  Args:\n",
    "      x1 (int): Input value 1 (0 or 1).\n",
    "      x2 (int): Input value 2 (0 or 1).\n",
    "\n",
    "  Returns:\n",
    "      int: Output of the ANDNOT function (0 or 1).\n",
    "  \"\"\"\n",
    "\n",
    "  # Weights and bias\n",
    "  w1 = 1  # Weight for input 1 (AND)\n",
    "  w2 = -2  # Weight for input 2 (NOT)\n",
    "  b = 1    # Bias\n",
    "\n",
    "  # Weighted sum of inputs\n",
    "  net_input = w1 * x1 + w2 * x2 + b\n",
    "\n",
    "  # Activation function (step function)\n",
    "  output = 0 if net_input <= 0 else 1\n",
    "\n",
    "  return output\n",
    "\n",
    "# Test cases\n",
    "print(f\"ANDNOT(0, 0) = {ANDNOT(0, 0)}\")\n",
    "print(f\"ANDNOT(0, 1) = {ANDNOT(0, 1)}\")\n",
    "print(f\"ANDNOT(1, 0) = {ANDNOT(1, 0)}\")\n",
    "print(f\"ANDNOT(1, 1) = {ANDNOT(1, 1)}\")\n"
   ]
  },
  {
   "cell_type": "code",
   "execution_count": null,
   "id": "ca5322eb-4b5c-4d60-86b5-4360d175a4f3",
   "metadata": {},
   "outputs": [],
   "source": []
  }
 ],
 "metadata": {
  "kernelspec": {
   "display_name": "Python 3 (ipykernel)",
   "language": "python",
   "name": "python3"
  },
  "language_info": {
   "codemirror_mode": {
    "name": "ipython",
    "version": 3
   },
   "file_extension": ".py",
   "mimetype": "text/x-python",
   "name": "python",
   "nbconvert_exporter": "python",
   "pygments_lexer": "ipython3",
   "version": "3.10.12"
  }
 },
 "nbformat": 4,
 "nbformat_minor": 5
}
