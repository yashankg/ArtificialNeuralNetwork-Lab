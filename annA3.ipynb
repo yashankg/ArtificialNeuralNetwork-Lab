{
 "cells": [
  {
   "cell_type": "code",
   "execution_count": 1,
   "id": "9680cb68-5d3f-4aa5-94c6-ce5a4329df6d",
   "metadata": {},
   "outputs": [],
   "source": [
    "#Write a python program using perceptron neural network to recognise even and odd numbers.\n",
    "#given numbers are in ASCII form 0-9"
   ]
  },
  {
   "cell_type": "code",
   "execution_count": 2,
   "id": "0fd3e17e-921e-407f-a82a-49ae766368b6",
   "metadata": {},
   "outputs": [],
   "source": [
    "import numpy as np"
   ]
  },
  {
   "cell_type": "code",
   "execution_count": 3,
   "id": "a1a47038-602f-4b06-b19d-593ee8cf0985",
   "metadata": {},
   "outputs": [],
   "source": [
    "class Perceptron:\n",
    "    def __init__(self, num_inputs, learning_rate=0.1):\n",
    "        self.weights=np.random.rand(num_inputs)\n",
    "        self.bias=np.random.rand()\n",
    "        self.learning_rate=learning_rate\n",
    "    \n",
    "    def activate(self, x):\n",
    "        if (x>=0):\n",
    "            return 1\n",
    "        else:\n",
    "            return 0\n",
    "    \n",
    "    def predict(self, inputs):\n",
    "        weighted_sum=np.dot(inputs, self.weights)+self.bias\n",
    "        return self.activate(weighted_sum)\n",
    "    \n",
    "    def train(self, inputs, target):\n",
    "        prediction=self.predict(inputs)\n",
    "        error=target-prediction\n",
    "        self.weights += self.learning_rate * error * np.array(inputs)\n",
    "        self.bias += self.learning_rate * error"
   ]
  },
  {
   "cell_type": "code",
   "execution_count": 4,
   "id": "28047d5f-4445-4f9f-b00d-6c8e39f41795",
   "metadata": {},
   "outputs": [],
   "source": [
    "def ascii_to_binary(ascii_num):\n",
    "    binary_num=format(ascii_num, '08b')\n",
    "    return [int(bit) for bit in binary_num]"
   ]
  },
  {
   "cell_type": "code",
   "execution_count": 5,
   "id": "c6c9e7b4-22cf-4a88-b4c5-de24b9c290f6",
   "metadata": {},
   "outputs": [],
   "source": [
    "perceptron=Perceptron(num_inputs=8)"
   ]
  },
  {
   "cell_type": "code",
   "execution_count": 6,
   "id": "e796178e-f6e4-465f-8204-45fb3c951ae5",
   "metadata": {},
   "outputs": [],
   "source": [
    "#'1' means EVEN\n",
    "#'0' means ODD\n",
    "training_data=[\n",
    "    (ascii_to_binary(48), 1), (ascii_to_binary(49), 0), (ascii_to_binary(50), 1),\n",
    "    (ascii_to_binary(51), 0), (ascii_to_binary(52), 1), (ascii_to_binary(53), 0),\n",
    "    (ascii_to_binary(54), 1), (ascii_to_binary(55), 0), (ascii_to_binary(56), 1),\n",
    "    (ascii_to_binary(57), 0)\n",
    "]"
   ]
  },
  {
   "cell_type": "code",
   "execution_count": 7,
   "id": "0ead330d-188e-4d73-8ccd-bf174bfa2c95",
   "metadata": {},
   "outputs": [],
   "source": [
    "for _ in range(1000):\n",
    "    for inputs, target in training_data:\n",
    "        perceptron.train(inputs, target)"
   ]
  },
  {
   "cell_type": "code",
   "execution_count": 8,
   "id": "45d52b5e-d631-4ee7-ab96-f45eb7f61655",
   "metadata": {},
   "outputs": [
    {
     "name": "stdin",
     "output_type": "stream",
     "text": [
      "Enter a value:  4\n"
     ]
    },
    {
     "name": "stdout",
     "output_type": "stream",
     "text": [
      "4 is an EVEN number.\n"
     ]
    }
   ],
   "source": [
    "input_char=input(\"Enter a value: \")\n",
    "try:\n",
    "    ascii_value=ord(input_char)\n",
    "    if 48 <=ascii_value <= 57:\n",
    "        prediction = perceptron.predict(ascii_to_binary(ascii_value))\n",
    "        if prediction==1:\n",
    "            print(f\"{input_char} is an EVEN number.\")\n",
    "        else:\n",
    "            print(f\"{input_char} is a ODD number.\")\n",
    "    else:\n",
    "        print(f\"{input_char} is not a digit.\")\n",
    "except:\n",
    "    print(\"Invalid input. Enter a valid Input.\")"
   ]
  },
  {
   "cell_type": "code",
   "execution_count": null,
   "id": "0043d227-a361-48cb-a951-4dba6bacaff6",
   "metadata": {},
   "outputs": [],
   "source": []
  }
 ],
 "metadata": {
  "kernelspec": {
   "display_name": "Python 3 (ipykernel)",
   "language": "python",
   "name": "python3"
  },
  "language_info": {
   "codemirror_mode": {
    "name": "ipython",
    "version": 3
   },
   "file_extension": ".py",
   "mimetype": "text/x-python",
   "name": "python",
   "nbconvert_exporter": "python",
   "pygments_lexer": "ipython3",
   "version": "3.10.12"
  }
 },
 "nbformat": 4,
 "nbformat_minor": 5
}
